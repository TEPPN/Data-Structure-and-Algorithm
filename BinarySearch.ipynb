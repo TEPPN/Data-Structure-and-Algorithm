{
 "cells": [
  {
   "cell_type": "markdown",
   "metadata": {},
   "source": [
    "# Binary Search"
   ]
  },
  {
   "cell_type": "markdown",
   "metadata": {},
   "source": [
    "#### Naive O(n) searching"
   ]
  },
  {
   "cell_type": "code",
   "execution_count": 10,
   "metadata": {},
   "outputs": [
    {
     "name": "stdout",
     "output_type": "stream",
     "text": [
      "True\n"
     ]
    }
   ],
   "source": [
    "A = [-1, 3, 5, 6, 8, 9]\n",
    "if 8 in A:\n",
    "    print(True)"
   ]
  },
  {
   "cell_type": "markdown",
   "metadata": {},
   "source": [
    "## Traditional Binary Search"
   ]
  },
  {
   "cell_type": "code",
   "execution_count": null,
   "metadata": {},
   "outputs": [
    {
     "data": {
      "text/plain": [
       "False"
      ]
     },
     "execution_count": 14,
     "metadata": {},
     "output_type": "execute_result"
    }
   ],
   "source": [
    "#Time: O(log n)\n",
    "#Space: O(1)\n",
    "\n",
    "def binary_search(arr, target):\n",
    "    N = len(arr)\n",
    "    L = 0\n",
    "    R = N - 1\n",
    "\n",
    "    while L <= R:\n",
    "        M = L + ((R-L)//2)\n",
    "        if arr[M] == target:\n",
    "            return True\n",
    "        elif target < arr[M]:\n",
    "            R = M - 1\n",
    "        elif target > arr[M]:\n",
    "            L = M + 1\n",
    "\n",
    "    return False\n",
    "\n",
    "binary_search(A, 10)"
   ]
  },
  {
   "cell_type": "markdown",
   "metadata": {},
   "source": [
    "## Conditional Based"
   ]
  },
  {
   "cell_type": "code",
   "execution_count": null,
   "metadata": {},
   "outputs": [],
   "source": [
    "B = [False, False, False, False, True, True, True]\n",
    "\n",
    "def binary_search_con(arr):\n",
    "    N = len(arr)\n",
    "    L = 0\n",
    "    R = N - 1\n",
    "\n",
    "    while L < R:\n",
    "        M = L + ((R - L)//2)\n",
    "        if arr[M]:\n",
    "            R = M\n",
    "        else:\n",
    "            L = M + 1\n",
    "    \n",
    "    return L"
   ]
  }
 ],
 "metadata": {
  "kernelspec": {
   "display_name": "Python 3",
   "language": "python",
   "name": "python3"
  },
  "language_info": {
   "codemirror_mode": {
    "name": "ipython",
    "version": 3
   },
   "file_extension": ".py",
   "mimetype": "text/x-python",
   "name": "python",
   "nbconvert_exporter": "python",
   "pygments_lexer": "ipython3",
   "version": "3.13.3"
  }
 },
 "nbformat": 4,
 "nbformat_minor": 2
}
